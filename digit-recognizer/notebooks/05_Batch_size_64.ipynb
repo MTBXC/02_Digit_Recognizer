{
 "cells": [
  {
   "cell_type": "code",
   "execution_count": 1,
   "id": "ed96ecd5",
   "metadata": {
    "execution": {
     "iopub.execute_input": "2025-07-09T08:10:24.655143Z",
     "iopub.status.busy": "2025-07-09T08:10:24.654933Z",
     "iopub.status.idle": "2025-07-09T08:10:24.658650Z",
     "shell.execute_reply": "2025-07-09T08:10:24.658172Z"
    },
    "id": "X4qN-n6D4Pur",
    "outputId": "4923a060-6a33-407d-b768-129a24660704",
    "papermill": {
     "duration": 0.010257,
     "end_time": "2025-07-09T08:10:24.659660",
     "exception": false,
     "start_time": "2025-07-09T08:10:24.649403",
     "status": "completed"
    },
    "tags": []
   },
   "outputs": [],
   "source": [
    "# from google.colab import drive\n",
    "# drive.mount('/content/drive')\n",
    "\n",
    "# !pip install python-dotenv\n",
    "# import kagglehub\n",
    "# import os\n",
    "# from dotenv import load_dotenv\n",
    "\n",
    "# # Zdefiniuj ścieżkę do pliku .env na Twoim Google Drive\n",
    "# dotenv_path = '/content/drive/MyDrive/API_KEY/kaggle.env'\n",
    "\n",
    "# # Sprawdź, czy plik istnieje przed próbą jego wczytania\n",
    "# if os.path.exists(dotenv_path):\n",
    "#     load_dotenv(dotenv_path)\n",
    "\n",
    "#     # Pobierz zmienne środowiskowe\n",
    "#     kaggle_login = os.getenv('KAGGLE_LOGIN')\n",
    "#     kaggle_key = os.getenv('KAGGLE_KEY')\n",
    "\n",
    "#     # # Możesz teraz użyć kaggle_login i kaggle_key\n",
    "#     # print(f\"KAGGLE_LOGIN: {kaggle_login}\")\n",
    "#     # print(f\"KAGGLE_KEY: {kaggle_key}\")\n",
    "# else:\n",
    "#     print(f\"Plik .env nie został znaleziony w {dotenv_path}\")\n",
    "# os.environ['KAGGLE_USERNAME'] = kaggle_login\n",
    "# os.environ['KAGGLE_KEY'] = kaggle_key\n",
    "\n",
    "# kagglehub.login()\n"
   ]
  },
  {
   "cell_type": "code",
   "execution_count": 2,
   "id": "ef985371",
   "metadata": {
    "execution": {
     "iopub.execute_input": "2025-07-09T08:10:24.668361Z",
     "iopub.status.busy": "2025-07-09T08:10:24.668172Z",
     "iopub.status.idle": "2025-07-09T08:10:24.670982Z",
     "shell.execute_reply": "2025-07-09T08:10:24.670480Z"
    },
    "id": "sHs4R-k05ttw",
    "outputId": "3adad97f-16d6-4f1d-af1f-0e4620df8762",
    "papermill": {
     "duration": 0.008154,
     "end_time": "2025-07-09T08:10:24.672012",
     "exception": false,
     "start_time": "2025-07-09T08:10:24.663858",
     "status": "completed"
    },
    "tags": []
   },
   "outputs": [],
   "source": [
    "# print('Importing data sources...')\n",
    "\n",
    "# competition_path = kagglehub.competition_download('digit-recognizer')\n",
    "\n",
    "# print('Data source import complete.')"
   ]
  },
  {
   "cell_type": "code",
   "execution_count": 3,
   "id": "72fa52e3",
   "metadata": {
    "execution": {
     "iopub.execute_input": "2025-07-09T08:10:24.680545Z",
     "iopub.status.busy": "2025-07-09T08:10:24.680360Z",
     "iopub.status.idle": "2025-07-09T08:10:24.683185Z",
     "shell.execute_reply": "2025-07-09T08:10:24.682652Z"
    },
    "id": "RBg0OHzI59r9",
    "outputId": "de6cb2e7-0869-48fc-f5de-cf0f64b7aa28",
    "papermill": {
     "duration": 0.008044,
     "end_time": "2025-07-09T08:10:24.684115",
     "exception": false,
     "start_time": "2025-07-09T08:10:24.676071",
     "status": "completed"
    },
    "tags": []
   },
   "outputs": [],
   "source": [
    "# # List files in the downloaded directory\n",
    "# print(f\"Files in the downloaded directory ({competition_path}):\")\n",
    "# for dirname, _, filenames in os.walk(competition_path):\n",
    "#     for filename in filenames:\n",
    "#         print(os.path.join(dirname, filename))"
   ]
  },
  {
   "cell_type": "code",
   "execution_count": 4,
   "id": "ea883d39",
   "metadata": {
    "execution": {
     "iopub.execute_input": "2025-07-09T08:10:24.692621Z",
     "iopub.status.busy": "2025-07-09T08:10:24.692433Z",
     "iopub.status.idle": "2025-07-09T08:10:51.908314Z",
     "shell.execute_reply": "2025-07-09T08:10:51.907393Z"
    },
    "id": "J24hTRxRcILs",
    "outputId": "d7f838df-fb42-4d2e-a8f0-35fa05e263b5",
    "papermill": {
     "duration": 27.221613,
     "end_time": "2025-07-09T08:10:51.909597",
     "exception": false,
     "start_time": "2025-07-09T08:10:24.687984",
     "status": "completed"
    },
    "tags": []
   },
   "outputs": [
    {
     "name": "stderr",
     "output_type": "stream",
     "text": [
      "2025-07-09 08:10:31.815182: E external/local_xla/xla/stream_executor/cuda/cuda_fft.cc:477] Unable to register cuFFT factory: Attempting to register factory for plugin cuFFT when one has already been registered\n",
      "WARNING: All log messages before absl::InitializeLog() is called are written to STDERR\n",
      "E0000 00:00:1752048632.158108      19 cuda_dnn.cc:8310] Unable to register cuDNN factory: Attempting to register factory for plugin cuDNN when one has already been registered\n",
      "E0000 00:00:1752048632.260653      19 cuda_blas.cc:1418] Unable to register cuBLAS factory: Attempting to register factory for plugin cuBLAS when one has already been registered\n"
     ]
    },
    {
     "name": "stdout",
     "output_type": "stream",
     "text": [
      "Train shape: (42000, 785)\n",
      "Test shape: (28000, 784)\n"
     ]
    }
   ],
   "source": [
    "import pandas as pd\n",
    "import numpy as np\n",
    "import matplotlib.pyplot as plt\n",
    "import seaborn as sns\n",
    "import tensorflow as tf\n",
    "\n",
    "# Wczytanie danych\n",
    "# ds_train = pd.read_csv(os.path.join(competition_path, \"train.csv\"))\n",
    "# ds_test = pd.read_csv(os.path.join(competition_path, \"test.csv\"))\n",
    "ds_train = pd.read_csv(\"/kaggle/input/digit-recognizer/train.csv\")\n",
    "ds_test = pd.read_csv(\"/kaggle/input/digit-recognizer/test.csv\")\n",
    "print(f'Train shape: {ds_train.shape}')\n",
    "print(f'Test shape: {ds_test.shape}')"
   ]
  },
  {
   "cell_type": "code",
   "execution_count": 5,
   "id": "48d01c27",
   "metadata": {
    "execution": {
     "iopub.execute_input": "2025-07-09T08:10:51.919124Z",
     "iopub.status.busy": "2025-07-09T08:10:51.918859Z",
     "iopub.status.idle": "2025-07-09T08:10:52.306425Z",
     "shell.execute_reply": "2025-07-09T08:10:52.305739Z"
    },
    "id": "tJaOwvG7cP7S",
    "papermill": {
     "duration": 0.39382,
     "end_time": "2025-07-09T08:10:52.307914",
     "exception": false,
     "start_time": "2025-07-09T08:10:51.914094",
     "status": "completed"
    },
    "tags": []
   },
   "outputs": [],
   "source": [
    "from sklearn.model_selection import train_test_split\n",
    "\n",
    "X_train_full = ds_train.drop('label', axis=1)\n",
    "y_train_full = ds_train['label']\n",
    "y_train = y_train_full\n",
    "\n",
    "# Normalizacja pikseli\n",
    "\n",
    "X_train = X_train_full / 255\n",
    "X_test = ds_test / 255\n",
    "\n",
    "# # Podział na zbiór treningowy i walidacyjny\n",
    "# X_train, X_valid = X_train_full[:-2000], X_train_full[-2000:]\n",
    "# y_train, y_valid = y_train_full[:-2000], y_train_full[-2000:]"
   ]
  },
  {
   "cell_type": "code",
   "execution_count": 6,
   "id": "031e00dd",
   "metadata": {
    "execution": {
     "iopub.execute_input": "2025-07-09T08:10:52.318004Z",
     "iopub.status.busy": "2025-07-09T08:10:52.317777Z",
     "iopub.status.idle": "2025-07-09T08:10:52.321605Z",
     "shell.execute_reply": "2025-07-09T08:10:52.321092Z"
    },
    "id": "uTVMnWbnYjJU",
    "papermill": {
     "duration": 0.01014,
     "end_time": "2025-07-09T08:10:52.322778",
     "exception": false,
     "start_time": "2025-07-09T08:10:52.312638",
     "status": "completed"
    },
    "tags": []
   },
   "outputs": [],
   "source": [
    "# Ustaw ziarno losowości\n",
    "import random\n",
    "\n",
    "SEED = 42\n",
    "# os.environ['PYTHONHASHSEED'] = str(SEED)\n",
    "random.seed(SEED)\n",
    "np.random.seed(SEED)\n",
    "tf.random.set_seed(SEED)"
   ]
  },
  {
   "cell_type": "code",
   "execution_count": 7,
   "id": "0417ea20",
   "metadata": {
    "execution": {
     "iopub.execute_input": "2025-07-09T08:10:52.332340Z",
     "iopub.status.busy": "2025-07-09T08:10:52.332138Z",
     "iopub.status.idle": "2025-07-09T08:10:52.335705Z",
     "shell.execute_reply": "2025-07-09T08:10:52.335141Z"
    },
    "id": "acykHpp3cxaL",
    "papermill": {
     "duration": 0.009429,
     "end_time": "2025-07-09T08:10:52.336784",
     "exception": false,
     "start_time": "2025-07-09T08:10:52.327355",
     "status": "completed"
    },
    "tags": []
   },
   "outputs": [],
   "source": [
    "# Dodanie wymiaru kanału dla \"Splotowej Sieci Neuronowej\"\n",
    "X_train = X_train.values.reshape(-1, 28, 28, 1)\n",
    "# X_valid = X_valid.values.reshape(-1, 28, 28, 1)\n",
    "X_test = X_test.values.reshape(-1, 28, 28, 1)\n"
   ]
  },
  {
   "cell_type": "code",
   "execution_count": 8,
   "id": "6749d972",
   "metadata": {
    "execution": {
     "iopub.execute_input": "2025-07-09T08:10:52.346768Z",
     "iopub.status.busy": "2025-07-09T08:10:52.346571Z",
     "iopub.status.idle": "2025-07-09T08:10:52.350047Z",
     "shell.execute_reply": "2025-07-09T08:10:52.349523Z"
    },
    "papermill": {
     "duration": 0.010176,
     "end_time": "2025-07-09T08:10:52.351143",
     "exception": false,
     "start_time": "2025-07-09T08:10:52.340967",
     "status": "completed"
    },
    "tags": []
   },
   "outputs": [],
   "source": [
    "y_train = y_train.astype('int')"
   ]
  },
  {
   "cell_type": "code",
   "execution_count": 9,
   "id": "e760f29d",
   "metadata": {
    "execution": {
     "iopub.execute_input": "2025-07-09T08:10:52.360931Z",
     "iopub.status.busy": "2025-07-09T08:10:52.360427Z",
     "iopub.status.idle": "2025-07-09T08:10:52.363870Z",
     "shell.execute_reply": "2025-07-09T08:10:52.363146Z"
    },
    "papermill": {
     "duration": 0.00967,
     "end_time": "2025-07-09T08:10:52.364989",
     "exception": false,
     "start_time": "2025-07-09T08:10:52.355319",
     "status": "completed"
    },
    "tags": []
   },
   "outputs": [],
   "source": [
    "X=X_train\n",
    "y=y_train"
   ]
  },
  {
   "cell_type": "markdown",
   "id": "f17e0ed6",
   "metadata": {
    "papermill": {
     "duration": 0.003969,
     "end_time": "2025-07-09T08:10:52.373405",
     "exception": false,
     "start_time": "2025-07-09T08:10:52.369436",
     "status": "completed"
    },
    "tags": []
   },
   "source": [
    "**Stratified Cross Validation**\n"
   ]
  },
  {
   "cell_type": "code",
   "execution_count": 10,
   "id": "829e8d46",
   "metadata": {
    "execution": {
     "iopub.execute_input": "2025-07-09T08:10:52.383209Z",
     "iopub.status.busy": "2025-07-09T08:10:52.382954Z",
     "iopub.status.idle": "2025-07-09T08:15:32.922858Z",
     "shell.execute_reply": "2025-07-09T08:15:32.921960Z"
    },
    "id": "xh2JxLLfc01C",
    "outputId": "104fa5e2-3997-487f-f479-2a606944dd79",
    "papermill": {
     "duration": 280.546316,
     "end_time": "2025-07-09T08:15:32.924107",
     "exception": false,
     "start_time": "2025-07-09T08:10:52.377791",
     "status": "completed"
    },
    "tags": []
   },
   "outputs": [
    {
     "name": "stdout",
     "output_type": "stream",
     "text": [
      "\n",
      "📂 Fold 1\n"
     ]
    },
    {
     "name": "stderr",
     "output_type": "stream",
     "text": [
      "/usr/local/lib/python3.11/dist-packages/keras/src/layers/convolutional/base_conv.py:107: UserWarning: Do not pass an `input_shape`/`input_dim` argument to a layer. When using Sequential models, prefer using an `Input(shape)` object as the first layer in the model instead.\n",
      "  super().__init__(activity_regularizer=activity_regularizer, **kwargs)\n",
      "I0000 00:00:1752048654.159307      19 gpu_device.cc:2022] Created device /job:localhost/replica:0/task:0/device:GPU:0 with 13942 MB memory:  -> device: 0, name: Tesla T4, pci bus id: 0000:00:04.0, compute capability: 7.5\n",
      "I0000 00:00:1752048654.159934      19 gpu_device.cc:2022] Created device /job:localhost/replica:0/task:0/device:GPU:1 with 13942 MB memory:  -> device: 1, name: Tesla T4, pci bus id: 0000:00:05.0, compute capability: 7.5\n"
     ]
    },
    {
     "name": "stdout",
     "output_type": "stream",
     "text": [
      "Epoch 1/30\n"
     ]
    },
    {
     "name": "stderr",
     "output_type": "stream",
     "text": [
      "WARNING: All log messages before absl::InitializeLog() is called are written to STDERR\n",
      "I0000 00:00:1752048659.699141      61 service.cc:148] XLA service 0x7d1b60004e70 initialized for platform CUDA (this does not guarantee that XLA will be used). Devices:\n",
      "I0000 00:00:1752048659.700436      61 service.cc:156]   StreamExecutor device (0): Tesla T4, Compute Capability 7.5\n",
      "I0000 00:00:1752048659.700457      61 service.cc:156]   StreamExecutor device (1): Tesla T4, Compute Capability 7.5\n",
      "I0000 00:00:1752048660.187387      61 cuda_dnn.cc:529] Loaded cuDNN version 90300\n"
     ]
    },
    {
     "name": "stdout",
     "output_type": "stream",
     "text": [
      "\u001b[1m 27/525\u001b[0m \u001b[32m━\u001b[0m\u001b[37m━━━━━━━━━━━━━━━━━━━\u001b[0m \u001b[1m3s\u001b[0m 6ms/step - accuracy: 0.2624 - loss: 2.8028"
     ]
    },
    {
     "name": "stderr",
     "output_type": "stream",
     "text": [
      "I0000 00:00:1752048665.289759      61 device_compiler.h:188] Compiled cluster using XLA!  This line is logged at most once for the lifetime of the process.\n"
     ]
    },
    {
     "name": "stdout",
     "output_type": "stream",
     "text": [
      "\u001b[1m525/525\u001b[0m \u001b[32m━━━━━━━━━━━━━━━━━━━━\u001b[0m\u001b[37m\u001b[0m \u001b[1m13s\u001b[0m 8ms/step - accuracy: 0.7485 - loss: 0.8203 - val_accuracy: 0.9401 - val_loss: 0.2061\n",
      "Epoch 2/30\n",
      "\u001b[1m525/525\u001b[0m \u001b[32m━━━━━━━━━━━━━━━━━━━━\u001b[0m\u001b[37m\u001b[0m \u001b[1m2s\u001b[0m 5ms/step - accuracy: 0.9583 - loss: 0.1431 - val_accuracy: 0.9840 - val_loss: 0.0520\n",
      "Epoch 3/30\n",
      "\u001b[1m525/525\u001b[0m \u001b[32m━━━━━━━━━━━━━━━━━━━━\u001b[0m\u001b[37m\u001b[0m \u001b[1m2s\u001b[0m 5ms/step - accuracy: 0.9707 - loss: 0.0969 - val_accuracy: 0.9874 - val_loss: 0.0460\n",
      "Epoch 4/30\n",
      "\u001b[1m525/525\u001b[0m \u001b[32m━━━━━━━━━━━━━━━━━━━━\u001b[0m\u001b[37m\u001b[0m \u001b[1m3s\u001b[0m 5ms/step - accuracy: 0.9768 - loss: 0.0735 - val_accuracy: 0.9883 - val_loss: 0.0371\n",
      "Epoch 5/30\n",
      "\u001b[1m525/525\u001b[0m \u001b[32m━━━━━━━━━━━━━━━━━━━━\u001b[0m\u001b[37m\u001b[0m \u001b[1m2s\u001b[0m 5ms/step - accuracy: 0.9806 - loss: 0.0649 - val_accuracy: 0.9901 - val_loss: 0.0394\n",
      "Epoch 6/30\n",
      "\u001b[1m525/525\u001b[0m \u001b[32m━━━━━━━━━━━━━━━━━━━━\u001b[0m\u001b[37m\u001b[0m \u001b[1m2s\u001b[0m 5ms/step - accuracy: 0.9817 - loss: 0.0596 - val_accuracy: 0.9911 - val_loss: 0.0308\n",
      "Epoch 7/30\n",
      "\u001b[1m525/525\u001b[0m \u001b[32m━━━━━━━━━━━━━━━━━━━━\u001b[0m\u001b[37m\u001b[0m \u001b[1m2s\u001b[0m 5ms/step - accuracy: 0.9858 - loss: 0.0490 - val_accuracy: 0.9900 - val_loss: 0.0351\n",
      "Epoch 8/30\n",
      "\u001b[1m525/525\u001b[0m \u001b[32m━━━━━━━━━━━━━━━━━━━━\u001b[0m\u001b[37m\u001b[0m \u001b[1m2s\u001b[0m 5ms/step - accuracy: 0.9852 - loss: 0.0502 - val_accuracy: 0.9915 - val_loss: 0.0327\n",
      "Epoch 9/30\n",
      "\u001b[1m525/525\u001b[0m \u001b[32m━━━━━━━━━━━━━━━━━━━━\u001b[0m\u001b[37m\u001b[0m \u001b[1m2s\u001b[0m 5ms/step - accuracy: 0.9862 - loss: 0.0454 - val_accuracy: 0.9926 - val_loss: 0.0328\n",
      "Epoch 10/30\n",
      "\u001b[1m525/525\u001b[0m \u001b[32m━━━━━━━━━━━━━━━━━━━━\u001b[0m\u001b[37m\u001b[0m \u001b[1m2s\u001b[0m 5ms/step - accuracy: 0.9882 - loss: 0.0405 - val_accuracy: 0.9904 - val_loss: 0.0362\n",
      "Epoch 11/30\n",
      "\u001b[1m525/525\u001b[0m \u001b[32m━━━━━━━━━━━━━━━━━━━━\u001b[0m\u001b[37m\u001b[0m \u001b[1m2s\u001b[0m 5ms/step - accuracy: 0.9866 - loss: 0.0462 - val_accuracy: 0.9924 - val_loss: 0.0381\n",
      "Epoch 12/30\n",
      "\u001b[1m525/525\u001b[0m \u001b[32m━━━━━━━━━━━━━━━━━━━━\u001b[0m\u001b[37m\u001b[0m \u001b[1m2s\u001b[0m 5ms/step - accuracy: 0.9905 - loss: 0.0338 - val_accuracy: 0.9929 - val_loss: 0.0363\n",
      "Epoch 13/30\n",
      "\u001b[1m525/525\u001b[0m \u001b[32m━━━━━━━━━━━━━━━━━━━━\u001b[0m\u001b[37m\u001b[0m \u001b[1m2s\u001b[0m 5ms/step - accuracy: 0.9895 - loss: 0.0350 - val_accuracy: 0.9912 - val_loss: 0.0414\n",
      "Epoch 14/30\n",
      "\u001b[1m525/525\u001b[0m \u001b[32m━━━━━━━━━━━━━━━━━━━━\u001b[0m\u001b[37m\u001b[0m \u001b[1m2s\u001b[0m 5ms/step - accuracy: 0.9890 - loss: 0.0370 - val_accuracy: 0.9930 - val_loss: 0.0352\n",
      "Epoch 15/30\n",
      "\u001b[1m525/525\u001b[0m \u001b[32m━━━━━━━━━━━━━━━━━━━━\u001b[0m\u001b[37m\u001b[0m \u001b[1m2s\u001b[0m 5ms/step - accuracy: 0.9904 - loss: 0.0314 - val_accuracy: 0.9919 - val_loss: 0.0409\n",
      "Epoch 16/30\n",
      "\u001b[1m525/525\u001b[0m \u001b[32m━━━━━━━━━━━━━━━━━━━━\u001b[0m\u001b[37m\u001b[0m \u001b[1m2s\u001b[0m 5ms/step - accuracy: 0.9908 - loss: 0.0291 - val_accuracy: 0.9929 - val_loss: 0.0374\n",
      "Epoch 17/30\n",
      "\u001b[1m525/525\u001b[0m \u001b[32m━━━━━━━━━━━━━━━━━━━━\u001b[0m\u001b[37m\u001b[0m \u001b[1m2s\u001b[0m 5ms/step - accuracy: 0.9920 - loss: 0.0256 - val_accuracy: 0.9942 - val_loss: 0.0321\n",
      "Epoch 18/30\n",
      "\u001b[1m525/525\u001b[0m \u001b[32m━━━━━━━━━━━━━━━━━━━━\u001b[0m\u001b[37m\u001b[0m \u001b[1m2s\u001b[0m 5ms/step - accuracy: 0.9916 - loss: 0.0276 - val_accuracy: 0.9930 - val_loss: 0.0361\n",
      "Epoch 19/30\n",
      "\u001b[1m525/525\u001b[0m \u001b[32m━━━━━━━━━━━━━━━━━━━━\u001b[0m\u001b[37m\u001b[0m \u001b[1m2s\u001b[0m 5ms/step - accuracy: 0.9913 - loss: 0.0287 - val_accuracy: 0.9927 - val_loss: 0.0354\n",
      "Epoch 20/30\n",
      "\u001b[1m525/525\u001b[0m \u001b[32m━━━━━━━━━━━━━━━━━━━━\u001b[0m\u001b[37m\u001b[0m \u001b[1m2s\u001b[0m 5ms/step - accuracy: 0.9920 - loss: 0.0222 - val_accuracy: 0.9926 - val_loss: 0.0363\n",
      "Epoch 21/30\n",
      "\u001b[1m525/525\u001b[0m \u001b[32m━━━━━━━━━━━━━━━━━━━━\u001b[0m\u001b[37m\u001b[0m \u001b[1m2s\u001b[0m 5ms/step - accuracy: 0.9910 - loss: 0.0301 - val_accuracy: 0.9931 - val_loss: 0.0390\n",
      "Epoch 22/30\n",
      "\u001b[1m525/525\u001b[0m \u001b[32m━━━━━━━━━━━━━━━━━━━━\u001b[0m\u001b[37m\u001b[0m \u001b[1m2s\u001b[0m 5ms/step - accuracy: 0.9933 - loss: 0.0223 - val_accuracy: 0.9936 - val_loss: 0.0382\n",
      "✅ Fold 1 Accuracy: 0.9942\n",
      "\n",
      "📂 Fold 2\n"
     ]
    },
    {
     "name": "stderr",
     "output_type": "stream",
     "text": [
      "/usr/local/lib/python3.11/dist-packages/keras/src/layers/convolutional/base_conv.py:107: UserWarning: Do not pass an `input_shape`/`input_dim` argument to a layer. When using Sequential models, prefer using an `Input(shape)` object as the first layer in the model instead.\n",
      "  super().__init__(activity_regularizer=activity_regularizer, **kwargs)\n"
     ]
    },
    {
     "name": "stdout",
     "output_type": "stream",
     "text": [
      "Epoch 1/30\n",
      "\u001b[1m525/525\u001b[0m \u001b[32m━━━━━━━━━━━━━━━━━━━━\u001b[0m\u001b[37m\u001b[0m \u001b[1m10s\u001b[0m 7ms/step - accuracy: 0.7639 - loss: 0.7738 - val_accuracy: 0.9657 - val_loss: 0.1417\n",
      "Epoch 2/30\n",
      "\u001b[1m525/525\u001b[0m \u001b[32m━━━━━━━━━━━━━━━━━━━━\u001b[0m\u001b[37m\u001b[0m \u001b[1m2s\u001b[0m 5ms/step - accuracy: 0.9624 - loss: 0.1260 - val_accuracy: 0.9852 - val_loss: 0.0504\n",
      "Epoch 3/30\n",
      "\u001b[1m525/525\u001b[0m \u001b[32m━━━━━━━━━━━━━━━━━━━━\u001b[0m\u001b[37m\u001b[0m \u001b[1m2s\u001b[0m 5ms/step - accuracy: 0.9730 - loss: 0.0918 - val_accuracy: 0.9819 - val_loss: 0.0575\n",
      "Epoch 4/30\n",
      "\u001b[1m525/525\u001b[0m \u001b[32m━━━━━━━━━━━━━━━━━━━━\u001b[0m\u001b[37m\u001b[0m \u001b[1m3s\u001b[0m 5ms/step - accuracy: 0.9781 - loss: 0.0715 - val_accuracy: 0.9873 - val_loss: 0.0435\n",
      "Epoch 5/30\n",
      "\u001b[1m525/525\u001b[0m \u001b[32m━━━━━━━━━━━━━━━━━━━━\u001b[0m\u001b[37m\u001b[0m \u001b[1m2s\u001b[0m 5ms/step - accuracy: 0.9800 - loss: 0.0640 - val_accuracy: 0.9860 - val_loss: 0.0414\n",
      "Epoch 6/30\n",
      "\u001b[1m525/525\u001b[0m \u001b[32m━━━━━━━━━━━━━━━━━━━━\u001b[0m\u001b[37m\u001b[0m \u001b[1m2s\u001b[0m 5ms/step - accuracy: 0.9844 - loss: 0.0501 - val_accuracy: 0.9882 - val_loss: 0.0435\n",
      "Epoch 7/30\n",
      "\u001b[1m525/525\u001b[0m \u001b[32m━━━━━━━━━━━━━━━━━━━━\u001b[0m\u001b[37m\u001b[0m \u001b[1m2s\u001b[0m 5ms/step - accuracy: 0.9861 - loss: 0.0455 - val_accuracy: 0.9881 - val_loss: 0.0440\n",
      "Epoch 8/30\n",
      "\u001b[1m525/525\u001b[0m \u001b[32m━━━━━━━━━━━━━━━━━━━━\u001b[0m\u001b[37m\u001b[0m \u001b[1m2s\u001b[0m 5ms/step - accuracy: 0.9874 - loss: 0.0408 - val_accuracy: 0.9849 - val_loss: 0.0487\n",
      "Epoch 9/30\n",
      "\u001b[1m525/525\u001b[0m \u001b[32m━━━━━━━━━━━━━━━━━━━━\u001b[0m\u001b[37m\u001b[0m \u001b[1m2s\u001b[0m 5ms/step - accuracy: 0.9868 - loss: 0.0431 - val_accuracy: 0.9907 - val_loss: 0.0374\n",
      "Epoch 10/30\n",
      "\u001b[1m525/525\u001b[0m \u001b[32m━━━━━━━━━━━━━━━━━━━━\u001b[0m\u001b[37m\u001b[0m \u001b[1m2s\u001b[0m 5ms/step - accuracy: 0.9872 - loss: 0.0393 - val_accuracy: 0.9917 - val_loss: 0.0282\n",
      "Epoch 11/30\n",
      "\u001b[1m525/525\u001b[0m \u001b[32m━━━━━━━━━━━━━━━━━━━━\u001b[0m\u001b[37m\u001b[0m \u001b[1m2s\u001b[0m 5ms/step - accuracy: 0.9898 - loss: 0.0347 - val_accuracy: 0.9917 - val_loss: 0.0332\n",
      "Epoch 12/30\n",
      "\u001b[1m525/525\u001b[0m \u001b[32m━━━━━━━━━━━━━━━━━━━━\u001b[0m\u001b[37m\u001b[0m \u001b[1m2s\u001b[0m 5ms/step - accuracy: 0.9910 - loss: 0.0312 - val_accuracy: 0.9901 - val_loss: 0.0314\n",
      "Epoch 13/30\n",
      "\u001b[1m525/525\u001b[0m \u001b[32m━━━━━━━━━━━━━━━━━━━━\u001b[0m\u001b[37m\u001b[0m \u001b[1m2s\u001b[0m 5ms/step - accuracy: 0.9901 - loss: 0.0334 - val_accuracy: 0.9901 - val_loss: 0.0373\n",
      "Epoch 14/30\n",
      "\u001b[1m525/525\u001b[0m \u001b[32m━━━━━━━━━━━━━━━━━━━━\u001b[0m\u001b[37m\u001b[0m \u001b[1m2s\u001b[0m 5ms/step - accuracy: 0.9901 - loss: 0.0300 - val_accuracy: 0.9906 - val_loss: 0.0387\n",
      "Epoch 15/30\n",
      "\u001b[1m525/525\u001b[0m \u001b[32m━━━━━━━━━━━━━━━━━━━━\u001b[0m\u001b[37m\u001b[0m \u001b[1m3s\u001b[0m 5ms/step - accuracy: 0.9908 - loss: 0.0275 - val_accuracy: 0.9906 - val_loss: 0.0409\n",
      "✅ Fold 2 Accuracy: 0.9917\n",
      "\n",
      "📂 Fold 3\n"
     ]
    },
    {
     "name": "stderr",
     "output_type": "stream",
     "text": [
      "/usr/local/lib/python3.11/dist-packages/keras/src/layers/convolutional/base_conv.py:107: UserWarning: Do not pass an `input_shape`/`input_dim` argument to a layer. When using Sequential models, prefer using an `Input(shape)` object as the first layer in the model instead.\n",
      "  super().__init__(activity_regularizer=activity_regularizer, **kwargs)\n"
     ]
    },
    {
     "name": "stdout",
     "output_type": "stream",
     "text": [
      "Epoch 1/30\n",
      "\u001b[1m525/525\u001b[0m \u001b[32m━━━━━━━━━━━━━━━━━━━━\u001b[0m\u001b[37m\u001b[0m \u001b[1m10s\u001b[0m 7ms/step - accuracy: 0.7337 - loss: 0.9071 - val_accuracy: 0.9699 - val_loss: 0.1135\n",
      "Epoch 2/30\n",
      "\u001b[1m525/525\u001b[0m \u001b[32m━━━━━━━━━━━━━━━━━━━━\u001b[0m\u001b[37m\u001b[0m \u001b[1m2s\u001b[0m 5ms/step - accuracy: 0.9577 - loss: 0.1414 - val_accuracy: 0.9799 - val_loss: 0.0686\n",
      "Epoch 3/30\n",
      "\u001b[1m525/525\u001b[0m \u001b[32m━━━━━━━━━━━━━━━━━━━━\u001b[0m\u001b[37m\u001b[0m \u001b[1m2s\u001b[0m 5ms/step - accuracy: 0.9704 - loss: 0.1005 - val_accuracy: 0.9883 - val_loss: 0.0406\n",
      "Epoch 4/30\n",
      "\u001b[1m525/525\u001b[0m \u001b[32m━━━━━━━━━━━━━━━━━━━━\u001b[0m\u001b[37m\u001b[0m \u001b[1m2s\u001b[0m 5ms/step - accuracy: 0.9769 - loss: 0.0746 - val_accuracy: 0.9848 - val_loss: 0.0501\n",
      "Epoch 5/30\n",
      "\u001b[1m525/525\u001b[0m \u001b[32m━━━━━━━━━━━━━━━━━━━━\u001b[0m\u001b[37m\u001b[0m \u001b[1m2s\u001b[0m 5ms/step - accuracy: 0.9814 - loss: 0.0634 - val_accuracy: 0.9888 - val_loss: 0.0366\n",
      "Epoch 6/30\n",
      "\u001b[1m525/525\u001b[0m \u001b[32m━━━━━━━━━━━━━━━━━━━━\u001b[0m\u001b[37m\u001b[0m \u001b[1m2s\u001b[0m 5ms/step - accuracy: 0.9823 - loss: 0.0601 - val_accuracy: 0.9879 - val_loss: 0.0371\n",
      "Epoch 7/30\n",
      "\u001b[1m525/525\u001b[0m \u001b[32m━━━━━━━━━━━━━━━━━━━━\u001b[0m\u001b[37m\u001b[0m \u001b[1m2s\u001b[0m 5ms/step - accuracy: 0.9848 - loss: 0.0487 - val_accuracy: 0.9899 - val_loss: 0.0331\n",
      "Epoch 8/30\n",
      "\u001b[1m525/525\u001b[0m \u001b[32m━━━━━━━━━━━━━━━━━━━━\u001b[0m\u001b[37m\u001b[0m \u001b[1m2s\u001b[0m 5ms/step - accuracy: 0.9861 - loss: 0.0465 - val_accuracy: 0.9890 - val_loss: 0.0346\n",
      "Epoch 9/30\n",
      "\u001b[1m525/525\u001b[0m \u001b[32m━━━━━━━━━━━━━━━━━━━━\u001b[0m\u001b[37m\u001b[0m \u001b[1m2s\u001b[0m 5ms/step - accuracy: 0.9869 - loss: 0.0424 - val_accuracy: 0.9896 - val_loss: 0.0336\n",
      "Epoch 10/30\n",
      "\u001b[1m525/525\u001b[0m \u001b[32m━━━━━━━━━━━━━━━━━━━━\u001b[0m\u001b[37m\u001b[0m \u001b[1m2s\u001b[0m 5ms/step - accuracy: 0.9881 - loss: 0.0424 - val_accuracy: 0.9914 - val_loss: 0.0294\n",
      "Epoch 11/30\n",
      "\u001b[1m525/525\u001b[0m \u001b[32m━━━━━━━━━━━━━━━━━━━━\u001b[0m\u001b[37m\u001b[0m \u001b[1m3s\u001b[0m 5ms/step - accuracy: 0.9894 - loss: 0.0341 - val_accuracy: 0.9899 - val_loss: 0.0331\n",
      "Epoch 12/30\n",
      "\u001b[1m525/525\u001b[0m \u001b[32m━━━━━━━━━━━━━━━━━━━━\u001b[0m\u001b[37m\u001b[0m \u001b[1m2s\u001b[0m 5ms/step - accuracy: 0.9892 - loss: 0.0363 - val_accuracy: 0.9895 - val_loss: 0.0374\n",
      "Epoch 13/30\n",
      "\u001b[1m525/525\u001b[0m \u001b[32m━━━━━━━━━━━━━━━━━━━━\u001b[0m\u001b[37m\u001b[0m \u001b[1m2s\u001b[0m 5ms/step - accuracy: 0.9907 - loss: 0.0326 - val_accuracy: 0.9907 - val_loss: 0.0336\n",
      "Epoch 14/30\n",
      "\u001b[1m525/525\u001b[0m \u001b[32m━━━━━━━━━━━━━━━━━━━━\u001b[0m\u001b[37m\u001b[0m \u001b[1m2s\u001b[0m 5ms/step - accuracy: 0.9895 - loss: 0.0354 - val_accuracy: 0.9911 - val_loss: 0.0372\n",
      "Epoch 15/30\n",
      "\u001b[1m525/525\u001b[0m \u001b[32m━━━━━━━━━━━━━━━━━━━━\u001b[0m\u001b[37m\u001b[0m \u001b[1m2s\u001b[0m 5ms/step - accuracy: 0.9923 - loss: 0.0254 - val_accuracy: 0.9895 - val_loss: 0.0380\n",
      "✅ Fold 3 Accuracy: 0.9914\n",
      "\n",
      "📂 Fold 4\n"
     ]
    },
    {
     "name": "stderr",
     "output_type": "stream",
     "text": [
      "/usr/local/lib/python3.11/dist-packages/keras/src/layers/convolutional/base_conv.py:107: UserWarning: Do not pass an `input_shape`/`input_dim` argument to a layer. When using Sequential models, prefer using an `Input(shape)` object as the first layer in the model instead.\n",
      "  super().__init__(activity_regularizer=activity_regularizer, **kwargs)\n"
     ]
    },
    {
     "name": "stdout",
     "output_type": "stream",
     "text": [
      "Epoch 1/30\n",
      "\u001b[1m525/525\u001b[0m \u001b[32m━━━━━━━━━━━━━━━━━━━━\u001b[0m\u001b[37m\u001b[0m \u001b[1m10s\u001b[0m 6ms/step - accuracy: 0.7170 - loss: 0.9091 - val_accuracy: 0.9375 - val_loss: 0.2092\n",
      "Epoch 2/30\n",
      "\u001b[1m525/525\u001b[0m \u001b[32m━━━━━━━━━━━━━━━━━━━━\u001b[0m\u001b[37m\u001b[0m \u001b[1m2s\u001b[0m 5ms/step - accuracy: 0.9592 - loss: 0.1383 - val_accuracy: 0.9829 - val_loss: 0.0570\n",
      "Epoch 3/30\n",
      "\u001b[1m525/525\u001b[0m \u001b[32m━━━━━━━━━━━━━━━━━━━━\u001b[0m\u001b[37m\u001b[0m \u001b[1m2s\u001b[0m 5ms/step - accuracy: 0.9714 - loss: 0.0970 - val_accuracy: 0.9861 - val_loss: 0.0449\n",
      "Epoch 4/30\n",
      "\u001b[1m525/525\u001b[0m \u001b[32m━━━━━━━━━━━━━━━━━━━━\u001b[0m\u001b[37m\u001b[0m \u001b[1m2s\u001b[0m 5ms/step - accuracy: 0.9764 - loss: 0.0808 - val_accuracy: 0.9827 - val_loss: 0.0557\n",
      "Epoch 5/30\n",
      "\u001b[1m525/525\u001b[0m \u001b[32m━━━━━━━━━━━━━━━━━━━━\u001b[0m\u001b[37m\u001b[0m \u001b[1m3s\u001b[0m 5ms/step - accuracy: 0.9800 - loss: 0.0670 - val_accuracy: 0.9912 - val_loss: 0.0303\n",
      "Epoch 6/30\n",
      "\u001b[1m525/525\u001b[0m \u001b[32m━━━━━━━━━━━━━━━━━━━━\u001b[0m\u001b[37m\u001b[0m \u001b[1m2s\u001b[0m 5ms/step - accuracy: 0.9843 - loss: 0.0553 - val_accuracy: 0.9895 - val_loss: 0.0355\n",
      "Epoch 7/30\n",
      "\u001b[1m525/525\u001b[0m \u001b[32m━━━━━━━━━━━━━━━━━━━━\u001b[0m\u001b[37m\u001b[0m \u001b[1m2s\u001b[0m 5ms/step - accuracy: 0.9852 - loss: 0.0522 - val_accuracy: 0.9899 - val_loss: 0.0331\n",
      "Epoch 8/30\n",
      "\u001b[1m525/525\u001b[0m \u001b[32m━━━━━━━━━━━━━━━━━━━━\u001b[0m\u001b[37m\u001b[0m \u001b[1m2s\u001b[0m 5ms/step - accuracy: 0.9863 - loss: 0.0459 - val_accuracy: 0.9857 - val_loss: 0.0511\n",
      "Epoch 9/30\n",
      "\u001b[1m525/525\u001b[0m \u001b[32m━━━━━━━━━━━━━━━━━━━━\u001b[0m\u001b[37m\u001b[0m \u001b[1m2s\u001b[0m 5ms/step - accuracy: 0.9856 - loss: 0.0478 - val_accuracy: 0.9919 - val_loss: 0.0271\n",
      "Epoch 10/30\n",
      "\u001b[1m525/525\u001b[0m \u001b[32m━━━━━━━━━━━━━━━━━━━━\u001b[0m\u001b[37m\u001b[0m \u001b[1m2s\u001b[0m 5ms/step - accuracy: 0.9866 - loss: 0.0461 - val_accuracy: 0.9910 - val_loss: 0.0356\n",
      "Epoch 11/30\n",
      "\u001b[1m525/525\u001b[0m \u001b[32m━━━━━━━━━━━━━━━━━━━━\u001b[0m\u001b[37m\u001b[0m \u001b[1m2s\u001b[0m 5ms/step - accuracy: 0.9874 - loss: 0.0411 - val_accuracy: 0.9917 - val_loss: 0.0291\n",
      "Epoch 12/30\n",
      "\u001b[1m525/525\u001b[0m \u001b[32m━━━━━━━━━━━━━━━━━━━━\u001b[0m\u001b[37m\u001b[0m \u001b[1m2s\u001b[0m 5ms/step - accuracy: 0.9882 - loss: 0.0393 - val_accuracy: 0.9911 - val_loss: 0.0366\n",
      "Epoch 13/30\n",
      "\u001b[1m525/525\u001b[0m \u001b[32m━━━━━━━━━━━━━━━━━━━━\u001b[0m\u001b[37m\u001b[0m \u001b[1m2s\u001b[0m 5ms/step - accuracy: 0.9902 - loss: 0.0324 - val_accuracy: 0.9929 - val_loss: 0.0284\n",
      "Epoch 14/30\n",
      "\u001b[1m525/525\u001b[0m \u001b[32m━━━━━━━━━━━━━━━━━━━━\u001b[0m\u001b[37m\u001b[0m \u001b[1m2s\u001b[0m 5ms/step - accuracy: 0.9905 - loss: 0.0315 - val_accuracy: 0.9901 - val_loss: 0.0398\n",
      "Epoch 15/30\n",
      "\u001b[1m525/525\u001b[0m \u001b[32m━━━━━━━━━━━━━━━━━━━━\u001b[0m\u001b[37m\u001b[0m \u001b[1m2s\u001b[0m 5ms/step - accuracy: 0.9906 - loss: 0.0344 - val_accuracy: 0.9927 - val_loss: 0.0289\n",
      "Epoch 16/30\n",
      "\u001b[1m525/525\u001b[0m \u001b[32m━━━━━━━━━━━━━━━━━━━━\u001b[0m\u001b[37m\u001b[0m \u001b[1m2s\u001b[0m 5ms/step - accuracy: 0.9918 - loss: 0.0278 - val_accuracy: 0.9907 - val_loss: 0.0385\n",
      "Epoch 17/30\n",
      "\u001b[1m525/525\u001b[0m \u001b[32m━━━━━━━━━━━━━━━━━━━━\u001b[0m\u001b[37m\u001b[0m \u001b[1m2s\u001b[0m 5ms/step - accuracy: 0.9901 - loss: 0.0354 - val_accuracy: 0.9924 - val_loss: 0.0265\n",
      "Epoch 18/30\n",
      "\u001b[1m525/525\u001b[0m \u001b[32m━━━━━━━━━━━━━━━━━━━━\u001b[0m\u001b[37m\u001b[0m \u001b[1m3s\u001b[0m 5ms/step - accuracy: 0.9916 - loss: 0.0298 - val_accuracy: 0.9927 - val_loss: 0.0299\n",
      "✅ Fold 4 Accuracy: 0.9929\n",
      "\n",
      "📂 Fold 5\n"
     ]
    },
    {
     "name": "stderr",
     "output_type": "stream",
     "text": [
      "/usr/local/lib/python3.11/dist-packages/keras/src/layers/convolutional/base_conv.py:107: UserWarning: Do not pass an `input_shape`/`input_dim` argument to a layer. When using Sequential models, prefer using an `Input(shape)` object as the first layer in the model instead.\n",
      "  super().__init__(activity_regularizer=activity_regularizer, **kwargs)\n"
     ]
    },
    {
     "name": "stdout",
     "output_type": "stream",
     "text": [
      "Epoch 1/30\n",
      "\u001b[1m525/525\u001b[0m \u001b[32m━━━━━━━━━━━━━━━━━━━━\u001b[0m\u001b[37m\u001b[0m \u001b[1m10s\u001b[0m 6ms/step - accuracy: 0.7500 - loss: 0.8171 - val_accuracy: 0.9758 - val_loss: 0.0804\n",
      "Epoch 2/30\n",
      "\u001b[1m525/525\u001b[0m \u001b[32m━━━━━━━━━━━━━━━━━━━━\u001b[0m\u001b[37m\u001b[0m \u001b[1m2s\u001b[0m 5ms/step - accuracy: 0.9562 - loss: 0.1467 - val_accuracy: 0.9860 - val_loss: 0.0478\n",
      "Epoch 3/30\n",
      "\u001b[1m525/525\u001b[0m \u001b[32m━━━━━━━━━━━━━━━━━━━━\u001b[0m\u001b[37m\u001b[0m \u001b[1m2s\u001b[0m 5ms/step - accuracy: 0.9674 - loss: 0.1083 - val_accuracy: 0.9882 - val_loss: 0.0416\n",
      "Epoch 4/30\n",
      "\u001b[1m525/525\u001b[0m \u001b[32m━━━━━━━━━━━━━━━━━━━━\u001b[0m\u001b[37m\u001b[0m \u001b[1m2s\u001b[0m 5ms/step - accuracy: 0.9755 - loss: 0.0825 - val_accuracy: 0.9895 - val_loss: 0.0359\n",
      "Epoch 5/30\n",
      "\u001b[1m525/525\u001b[0m \u001b[32m━━━━━━━━━━━━━━━━━━━━\u001b[0m\u001b[37m\u001b[0m \u001b[1m2s\u001b[0m 5ms/step - accuracy: 0.9779 - loss: 0.0763 - val_accuracy: 0.9881 - val_loss: 0.0400\n",
      "Epoch 6/30\n",
      "\u001b[1m525/525\u001b[0m \u001b[32m━━━━━━━━━━━━━━━━━━━━\u001b[0m\u001b[37m\u001b[0m \u001b[1m2s\u001b[0m 5ms/step - accuracy: 0.9812 - loss: 0.0581 - val_accuracy: 0.9907 - val_loss: 0.0410\n",
      "Epoch 7/30\n",
      "\u001b[1m525/525\u001b[0m \u001b[32m━━━━━━━━━━━━━━━━━━━━\u001b[0m\u001b[37m\u001b[0m \u001b[1m2s\u001b[0m 5ms/step - accuracy: 0.9831 - loss: 0.0538 - val_accuracy: 0.9908 - val_loss: 0.0316\n",
      "Epoch 8/30\n",
      "\u001b[1m525/525\u001b[0m \u001b[32m━━━━━━━━━━━━━━━━━━━━\u001b[0m\u001b[37m\u001b[0m \u001b[1m2s\u001b[0m 5ms/step - accuracy: 0.9857 - loss: 0.0471 - val_accuracy: 0.9907 - val_loss: 0.0321\n",
      "Epoch 9/30\n",
      "\u001b[1m525/525\u001b[0m \u001b[32m━━━━━━━━━━━━━━━━━━━━\u001b[0m\u001b[37m\u001b[0m \u001b[1m3s\u001b[0m 5ms/step - accuracy: 0.9844 - loss: 0.0497 - val_accuracy: 0.9895 - val_loss: 0.0391\n",
      "Epoch 10/30\n",
      "\u001b[1m525/525\u001b[0m \u001b[32m━━━━━━━━━━━━━━━━━━━━\u001b[0m\u001b[37m\u001b[0m \u001b[1m2s\u001b[0m 5ms/step - accuracy: 0.9852 - loss: 0.0462 - val_accuracy: 0.9913 - val_loss: 0.0322\n",
      "Epoch 11/30\n",
      "\u001b[1m525/525\u001b[0m \u001b[32m━━━━━━━━━━━━━━━━━━━━\u001b[0m\u001b[37m\u001b[0m \u001b[1m2s\u001b[0m 5ms/step - accuracy: 0.9858 - loss: 0.0465 - val_accuracy: 0.9913 - val_loss: 0.0348\n",
      "Epoch 12/30\n",
      "\u001b[1m525/525\u001b[0m \u001b[32m━━━━━━━━━━━━━━━━━━━━\u001b[0m\u001b[37m\u001b[0m \u001b[1m2s\u001b[0m 5ms/step - accuracy: 0.9877 - loss: 0.0395 - val_accuracy: 0.9910 - val_loss: 0.0400\n",
      "Epoch 13/30\n",
      "\u001b[1m525/525\u001b[0m \u001b[32m━━━━━━━━━━━━━━━━━━━━\u001b[0m\u001b[37m\u001b[0m \u001b[1m2s\u001b[0m 5ms/step - accuracy: 0.9894 - loss: 0.0372 - val_accuracy: 0.9915 - val_loss: 0.0342\n",
      "Epoch 14/30\n",
      "\u001b[1m525/525\u001b[0m \u001b[32m━━━━━━━━━━━━━━━━━━━━\u001b[0m\u001b[37m\u001b[0m \u001b[1m2s\u001b[0m 5ms/step - accuracy: 0.9892 - loss: 0.0367 - val_accuracy: 0.9900 - val_loss: 0.0417\n",
      "Epoch 15/30\n",
      "\u001b[1m525/525\u001b[0m \u001b[32m━━━━━━━━━━━━━━━━━━━━\u001b[0m\u001b[37m\u001b[0m \u001b[1m2s\u001b[0m 5ms/step - accuracy: 0.9898 - loss: 0.0370 - val_accuracy: 0.9911 - val_loss: 0.0387\n",
      "Epoch 16/30\n",
      "\u001b[1m525/525\u001b[0m \u001b[32m━━━━━━━━━━━━━━━━━━━━\u001b[0m\u001b[37m\u001b[0m \u001b[1m2s\u001b[0m 5ms/step - accuracy: 0.9912 - loss: 0.0279 - val_accuracy: 0.9919 - val_loss: 0.0300\n",
      "Epoch 17/30\n",
      "\u001b[1m525/525\u001b[0m \u001b[32m━━━━━━━━━━━━━━━━━━━━\u001b[0m\u001b[37m\u001b[0m \u001b[1m2s\u001b[0m 5ms/step - accuracy: 0.9908 - loss: 0.0291 - val_accuracy: 0.9921 - val_loss: 0.0346\n",
      "Epoch 18/30\n",
      "\u001b[1m525/525\u001b[0m \u001b[32m━━━━━━━━━━━━━━━━━━━━\u001b[0m\u001b[37m\u001b[0m \u001b[1m2s\u001b[0m 5ms/step - accuracy: 0.9909 - loss: 0.0313 - val_accuracy: 0.9939 - val_loss: 0.0282\n",
      "Epoch 19/30\n",
      "\u001b[1m525/525\u001b[0m \u001b[32m━━━━━━━━━━━━━━━━━━━━\u001b[0m\u001b[37m\u001b[0m \u001b[1m2s\u001b[0m 5ms/step - accuracy: 0.9888 - loss: 0.0379 - val_accuracy: 0.9915 - val_loss: 0.0361\n",
      "Epoch 20/30\n",
      "\u001b[1m525/525\u001b[0m \u001b[32m━━━━━━━━━━━━━━━━━━━━\u001b[0m\u001b[37m\u001b[0m \u001b[1m2s\u001b[0m 5ms/step - accuracy: 0.9918 - loss: 0.0302 - val_accuracy: 0.9927 - val_loss: 0.0346\n",
      "Epoch 21/30\n",
      "\u001b[1m525/525\u001b[0m \u001b[32m━━━━━━━━━━━━━━━━━━━━\u001b[0m\u001b[37m\u001b[0m \u001b[1m2s\u001b[0m 5ms/step - accuracy: 0.9930 - loss: 0.0243 - val_accuracy: 0.9924 - val_loss: 0.0367\n",
      "Epoch 22/30\n",
      "\u001b[1m525/525\u001b[0m \u001b[32m━━━━━━━━━━━━━━━━━━━━\u001b[0m\u001b[37m\u001b[0m \u001b[1m3s\u001b[0m 5ms/step - accuracy: 0.9924 - loss: 0.0236 - val_accuracy: 0.9929 - val_loss: 0.0296\n",
      "Epoch 23/30\n",
      "\u001b[1m525/525\u001b[0m \u001b[32m━━━━━━━━━━━━━━━━━━━━\u001b[0m\u001b[37m\u001b[0m \u001b[1m2s\u001b[0m 5ms/step - accuracy: 0.9925 - loss: 0.0250 - val_accuracy: 0.9923 - val_loss: 0.0388\n",
      "✅ Fold 5 Accuracy: 0.9939\n",
      "\n",
      "📊 Średnia dokładność z 5 foldów: 0.9928\n"
     ]
    }
   ],
   "source": [
    "from tensorflow.keras import layers, models\n",
    "from sklearn.model_selection import StratifiedKFold\n",
    "from tensorflow.keras.callbacks import EarlyStopping\n",
    "\n",
    "# Cross-validation setup\n",
    "skf = StratifiedKFold(n_splits=5, shuffle=True, random_state=42)\n",
    "fold_accuracies = []\n",
    "\n",
    "for fold, (train_idx, val_idx) in enumerate(skf.split(X, y)):\n",
    "    print(f\"\\n📂 Fold {fold + 1}\")\n",
    "\n",
    "    X_train, X_val = X[train_idx], X[val_idx]\n",
    "    y_train, y_val = y[train_idx], y[val_idx]\n",
    "\n",
    "    # Model\n",
    "    model = models.Sequential([\n",
    "        layers.Conv2D(32, (3,3), activation='relu', input_shape=(28,28,1)),\n",
    "        layers.BatchNormalization(),  # dodaj batch norm\n",
    "        layers.Conv2D(32, (3,3), activation='relu'),\n",
    "        layers.MaxPooling2D(2,2),\n",
    "        layers.Dropout(0.3),\n",
    "    \n",
    "        layers.Conv2D(64, (3,3), activation='relu'),\n",
    "        layers.BatchNormalization(),\n",
    "        layers.Conv2D(64, (3,3), activation='relu'),\n",
    "        layers.MaxPooling2D(2,2),\n",
    "        layers.Dropout(0.3),\n",
    "    \n",
    "        layers.Flatten(),\n",
    "        layers.Dense(128, activation='relu'),\n",
    "        layers.Dropout(0.4),\n",
    "        layers.Dense(10, activation='softmax')\n",
    "    ])\n",
    "\n",
    "    model.compile(optimizer='adam',\n",
    "                  loss='sparse_categorical_crossentropy',\n",
    "                  metrics=['accuracy'])\n",
    "\n",
    "    early_stop = EarlyStopping(\n",
    "        monitor='val_accuracy',\n",
    "        patience=5,             # zatrzymaj po 5 epokach bez poprawy\n",
    "        restore_best_weights=True\n",
    "    )\n",
    "\n",
    "    # Trening\n",
    "    history = model.fit(\n",
    "        X_train, y_train,\n",
    "        epochs=30,\n",
    "        batch_size=64,\n",
    "        validation_data=(X_val, y_val),\n",
    "        callbacks=[early_stop],\n",
    "        verbose=1\n",
    "    )\n",
    "\n",
    "    # Ocena\n",
    "    val_loss, val_acc = model.evaluate(X_val, y_val, verbose=0)\n",
    "    print(f\"✅ Fold {fold+1} Accuracy: {val_acc:.4f}\")\n",
    "    fold_accuracies.append(val_acc)\n",
    "\n",
    "# Średnia dokładność\n",
    "mean_acc = np.mean(fold_accuracies)\n",
    "print(f\"\\n📊 Średnia dokładność z {skf.n_splits} foldów: {mean_acc:.4f}\")"
   ]
  },
  {
   "cell_type": "code",
   "execution_count": 11,
   "id": "0c98940d",
   "metadata": {
    "execution": {
     "iopub.execute_input": "2025-07-09T08:15:33.263609Z",
     "iopub.status.busy": "2025-07-09T08:15:33.262774Z",
     "iopub.status.idle": "2025-07-09T08:15:33.266634Z",
     "shell.execute_reply": "2025-07-09T08:15:33.266140Z"
    },
    "id": "nPPKQywJlN28",
    "outputId": "d9f4aa36-b529-4712-9bfe-acb3f43a3746",
    "papermill": {
     "duration": 0.172432,
     "end_time": "2025-07-09T08:15:33.267709",
     "exception": false,
     "start_time": "2025-07-09T08:15:33.095277",
     "status": "completed"
    },
    "tags": []
   },
   "outputs": [],
   "source": [
    "# history = model.fit(X_train, y_train,\n",
    "#                     batch_size=64,\n",
    "#                     epochs=30,\n",
    "#                     validation_data=(X_valid, y_valid),\n",
    "#                     shuffle=False,\n",
    "#                     callbacks=[early_stop])\n",
    "\n",
    "\n",
    "# def plot_history(history):\n",
    "#     plt.figure(figsize=(12, 4))\n",
    "\n",
    "#     # Accuracy\n",
    "#     plt.subplot(1, 2, 1)\n",
    "#     plt.plot(history.history['accuracy'], label='train acc')\n",
    "#     if 'val_accuracy' in history.history:\n",
    "#         plt.plot(history.history['val_accuracy'], label='val acc')\n",
    "#     plt.title('Accuracy')\n",
    "#     plt.xlabel('Epoch')\n",
    "#     plt.ylabel('Accuracy')\n",
    "#     plt.legend()\n",
    "\n",
    "#     # Loss\n",
    "#     plt.subplot(1, 2, 2)\n",
    "#     plt.plot(history.history['loss'], label='train loss')\n",
    "#     if 'val_loss' in history.history:\n",
    "#         plt.plot(history.history['val_loss'], label='val loss')\n",
    "#     else:\n",
    "#         print(\"⚠️ Nie znaleziono 'val_loss' — czy podałeś validation_data?\")\n",
    "#     plt.title('Loss')\n",
    "#     plt.xlabel('Epoch')\n",
    "#     plt.ylabel('Loss')\n",
    "#     plt.legend()\n",
    "#     plt.show()\n",
    "\n",
    "# plot_history(history)"
   ]
  },
  {
   "cell_type": "code",
   "execution_count": 12,
   "id": "5d9fb7f0",
   "metadata": {
    "execution": {
     "iopub.execute_input": "2025-07-09T08:15:33.667353Z",
     "iopub.status.busy": "2025-07-09T08:15:33.666841Z",
     "iopub.status.idle": "2025-07-09T08:15:36.275131Z",
     "shell.execute_reply": "2025-07-09T08:15:36.274484Z"
    },
    "id": "EDHALrJwon4Q",
    "outputId": "50b4eb6d-1445-4339-9c5d-cf2198d1c2b4",
    "papermill": {
     "duration": 2.779668,
     "end_time": "2025-07-09T08:15:36.276455",
     "exception": false,
     "start_time": "2025-07-09T08:15:33.496787",
     "status": "completed"
    },
    "tags": []
   },
   "outputs": [
    {
     "name": "stdout",
     "output_type": "stream",
     "text": [
      "\u001b[1m875/875\u001b[0m \u001b[32m━━━━━━━━━━━━━━━━━━━━\u001b[0m\u001b[37m\u001b[0m \u001b[1m2s\u001b[0m 2ms/step\n"
     ]
    }
   ],
   "source": [
    "y_pred_proba = model.predict(X_test)\n",
    "y_pred = np.argmax(y_pred_proba, axis=1)"
   ]
  },
  {
   "cell_type": "code",
   "execution_count": 13,
   "id": "d66628b6",
   "metadata": {
    "execution": {
     "iopub.execute_input": "2025-07-09T08:15:36.616057Z",
     "iopub.status.busy": "2025-07-09T08:15:36.615756Z",
     "iopub.status.idle": "2025-07-09T08:15:36.641717Z",
     "shell.execute_reply": "2025-07-09T08:15:36.641222Z"
    },
    "id": "gQzdg_T0udaC",
    "papermill": {
     "duration": 0.195071,
     "end_time": "2025-07-09T08:15:36.642746",
     "exception": false,
     "start_time": "2025-07-09T08:15:36.447675",
     "status": "completed"
    },
    "tags": []
   },
   "outputs": [],
   "source": [
    "submission = pd.DataFrame({\n",
    "    \"ImageId\": np.arange(1, len(y_pred) + 1),\n",
    "    \"Label\": y_pred\n",
    "})\n",
    "\n",
    "submission.to_csv(\"06_submission.csv\", index=False)"
   ]
  },
  {
   "cell_type": "code",
   "execution_count": null,
   "id": "040e2433",
   "metadata": {
    "id": "0quK8AwYu0NJ",
    "papermill": {
     "duration": 0.173011,
     "end_time": "2025-07-09T08:15:36.983819",
     "exception": false,
     "start_time": "2025-07-09T08:15:36.810808",
     "status": "completed"
    },
    "tags": []
   },
   "outputs": [],
   "source": []
  }
 ],
 "metadata": {
  "accelerator": "GPU",
  "colab": {
   "gpuType": "T4",
   "provenance": []
  },
  "kaggle": {
   "accelerator": "nvidiaTeslaT4",
   "dataSources": [
    {
     "databundleVersionId": 861823,
     "sourceId": 3004,
     "sourceType": "competition"
    }
   ],
   "dockerImageVersionId": 31090,
   "isGpuEnabled": true,
   "isInternetEnabled": true,
   "language": "python",
   "sourceType": "notebook"
  },
  "kernelspec": {
   "display_name": "Python 3",
   "language": "python",
   "name": "python3"
  },
  "language_info": {
   "codemirror_mode": {
    "name": "ipython",
    "version": 3
   },
   "file_extension": ".py",
   "mimetype": "text/x-python",
   "name": "python",
   "nbconvert_exporter": "python",
   "pygments_lexer": "ipython3",
   "version": "3.11.13"
  },
  "papermill": {
   "default_parameters": {},
   "duration": 321.004027,
   "end_time": "2025-07-09T08:15:40.054727",
   "environment_variables": {},
   "exception": null,
   "input_path": "__notebook__.ipynb",
   "output_path": "__notebook__.ipynb",
   "parameters": {},
   "start_time": "2025-07-09T08:10:19.050700",
   "version": "2.6.0"
  },
  "widgets": {
   "application/vnd.jupyter.widget-state+json": {
    "002a24030a2247fdbdf94968819b9487": {
     "model_module": "@jupyter-widgets/controls",
     "model_module_version": "1.5.0",
     "model_name": "HTMLModel",
     "state": {
      "_dom_classes": [],
      "_model_module": "@jupyter-widgets/controls",
      "_model_module_version": "1.5.0",
      "_model_name": "HTMLModel",
      "_view_count": null,
      "_view_module": "@jupyter-widgets/controls",
      "_view_module_version": "1.5.0",
      "_view_name": "HTMLView",
      "description": "",
      "description_tooltip": null,
      "layout": "IPY_MODEL_d9408e5ef4164e94b399d89eefd4fc4e",
      "placeholder": "​",
      "style": "IPY_MODEL_1d888be583b8406bb6bf62cf2e7cb80d",
      "value": "<center> <img\nsrc=https://www.kaggle.com/static/images/site-logo.png\nalt='Kaggle'> <br> Create an API token from <a\nhref=\"https://www.kaggle.com/settings/account\" target=\"_blank\">your Kaggle\nsettings page</a> and paste it below along with your Kaggle username. <br> </center>"
     }
    },
    "09cf7ac0cfeb40a3a76192281988c2c7": {
     "model_module": "@jupyter-widgets/controls",
     "model_module_version": "1.5.0",
     "model_name": "DescriptionStyleModel",
     "state": {
      "_model_module": "@jupyter-widgets/controls",
      "_model_module_version": "1.5.0",
      "_model_name": "DescriptionStyleModel",
      "_view_count": null,
      "_view_module": "@jupyter-widgets/base",
      "_view_module_version": "1.2.0",
      "_view_name": "StyleView",
      "description_width": ""
     }
    },
    "145e75427d5c41af9060d57278fcc2e6": {
     "model_module": "@jupyter-widgets/controls",
     "model_module_version": "1.5.0",
     "model_name": "TextModel",
     "state": {
      "_dom_classes": [],
      "_model_module": "@jupyter-widgets/controls",
      "_model_module_version": "1.5.0",
      "_model_name": "TextModel",
      "_view_count": null,
      "_view_module": "@jupyter-widgets/controls",
      "_view_module_version": "1.5.0",
      "_view_name": "TextView",
      "continuous_update": true,
      "description": "Username:",
      "description_tooltip": null,
      "disabled": false,
      "layout": "IPY_MODEL_d5c563ababc6431cac8bff0a163dcf9c",
      "placeholder": "​",
      "style": "IPY_MODEL_547c412897d04ef0b6c79d5dbbcdc8ba",
      "value": ""
     }
    },
    "1d888be583b8406bb6bf62cf2e7cb80d": {
     "model_module": "@jupyter-widgets/controls",
     "model_module_version": "1.5.0",
     "model_name": "DescriptionStyleModel",
     "state": {
      "_model_module": "@jupyter-widgets/controls",
      "_model_module_version": "1.5.0",
      "_model_name": "DescriptionStyleModel",
      "_view_count": null,
      "_view_module": "@jupyter-widgets/base",
      "_view_module_version": "1.2.0",
      "_view_name": "StyleView",
      "description_width": ""
     }
    },
    "365545b2b8ac459ebe2d76feb06f449b": {
     "model_module": "@jupyter-widgets/controls",
     "model_module_version": "1.5.0",
     "model_name": "PasswordModel",
     "state": {
      "_dom_classes": [],
      "_model_module": "@jupyter-widgets/controls",
      "_model_module_version": "1.5.0",
      "_model_name": "PasswordModel",
      "_view_count": null,
      "_view_module": "@jupyter-widgets/controls",
      "_view_module_version": "1.5.0",
      "_view_name": "PasswordView",
      "continuous_update": true,
      "description": "Token:",
      "description_tooltip": null,
      "disabled": false,
      "layout": "IPY_MODEL_c604659fccf042228c753d3b8f12af03",
      "placeholder": "​",
      "style": "IPY_MODEL_09cf7ac0cfeb40a3a76192281988c2c7",
      "value": ""
     }
    },
    "3b1f2fd3896740b0b839092c4608127d": {
     "model_module": "@jupyter-widgets/base",
     "model_module_version": "1.2.0",
     "model_name": "LayoutModel",
     "state": {
      "_model_module": "@jupyter-widgets/base",
      "_model_module_version": "1.2.0",
      "_model_name": "LayoutModel",
      "_view_count": null,
      "_view_module": "@jupyter-widgets/base",
      "_view_module_version": "1.2.0",
      "_view_name": "LayoutView",
      "align_content": null,
      "align_items": null,
      "align_self": null,
      "border": null,
      "bottom": null,
      "display": null,
      "flex": null,
      "flex_flow": null,
      "grid_area": null,
      "grid_auto_columns": null,
      "grid_auto_flow": null,
      "grid_auto_rows": null,
      "grid_column": null,
      "grid_gap": null,
      "grid_row": null,
      "grid_template_areas": null,
      "grid_template_columns": null,
      "grid_template_rows": null,
      "height": null,
      "justify_content": null,
      "justify_items": null,
      "left": null,
      "margin": null,
      "max_height": null,
      "max_width": null,
      "min_height": null,
      "min_width": null,
      "object_fit": null,
      "object_position": null,
      "order": null,
      "overflow": null,
      "overflow_x": null,
      "overflow_y": null,
      "padding": null,
      "right": null,
      "top": null,
      "visibility": null,
      "width": null
     }
    },
    "547c412897d04ef0b6c79d5dbbcdc8ba": {
     "model_module": "@jupyter-widgets/controls",
     "model_module_version": "1.5.0",
     "model_name": "DescriptionStyleModel",
     "state": {
      "_model_module": "@jupyter-widgets/controls",
      "_model_module_version": "1.5.0",
      "_model_name": "DescriptionStyleModel",
      "_view_count": null,
      "_view_module": "@jupyter-widgets/base",
      "_view_module_version": "1.2.0",
      "_view_name": "StyleView",
      "description_width": ""
     }
    },
    "562d0a90b8cf47a9bced5832cc305479": {
     "model_module": "@jupyter-widgets/controls",
     "model_module_version": "1.5.0",
     "model_name": "ButtonStyleModel",
     "state": {
      "_model_module": "@jupyter-widgets/controls",
      "_model_module_version": "1.5.0",
      "_model_name": "ButtonStyleModel",
      "_view_count": null,
      "_view_module": "@jupyter-widgets/base",
      "_view_module_version": "1.2.0",
      "_view_name": "StyleView",
      "button_color": null,
      "font_weight": ""
     }
    },
    "6dcd54aa84b54f388b4f98402929ebbb": {
     "model_module": "@jupyter-widgets/base",
     "model_module_version": "1.2.0",
     "model_name": "LayoutModel",
     "state": {
      "_model_module": "@jupyter-widgets/base",
      "_model_module_version": "1.2.0",
      "_model_name": "LayoutModel",
      "_view_count": null,
      "_view_module": "@jupyter-widgets/base",
      "_view_module_version": "1.2.0",
      "_view_name": "LayoutView",
      "align_content": null,
      "align_items": null,
      "align_self": null,
      "border": null,
      "bottom": null,
      "display": null,
      "flex": null,
      "flex_flow": null,
      "grid_area": null,
      "grid_auto_columns": null,
      "grid_auto_flow": null,
      "grid_auto_rows": null,
      "grid_column": null,
      "grid_gap": null,
      "grid_row": null,
      "grid_template_areas": null,
      "grid_template_columns": null,
      "grid_template_rows": null,
      "height": null,
      "justify_content": null,
      "justify_items": null,
      "left": null,
      "margin": null,
      "max_height": null,
      "max_width": null,
      "min_height": null,
      "min_width": null,
      "object_fit": null,
      "object_position": null,
      "order": null,
      "overflow": null,
      "overflow_x": null,
      "overflow_y": null,
      "padding": null,
      "right": null,
      "top": null,
      "visibility": null,
      "width": null
     }
    },
    "7180179bd0214506a165042748239b19": {
     "model_module": "@jupyter-widgets/controls",
     "model_module_version": "1.5.0",
     "model_name": "DescriptionStyleModel",
     "state": {
      "_model_module": "@jupyter-widgets/controls",
      "_model_module_version": "1.5.0",
      "_model_name": "DescriptionStyleModel",
      "_view_count": null,
      "_view_module": "@jupyter-widgets/base",
      "_view_module_version": "1.2.0",
      "_view_name": "StyleView",
      "description_width": ""
     }
    },
    "b0fbb4a257384c94b88047f3d3c88921": {
     "model_module": "@jupyter-widgets/controls",
     "model_module_version": "1.5.0",
     "model_name": "VBoxModel",
     "state": {
      "_dom_classes": [],
      "_model_module": "@jupyter-widgets/controls",
      "_model_module_version": "1.5.0",
      "_model_name": "VBoxModel",
      "_view_count": null,
      "_view_module": "@jupyter-widgets/controls",
      "_view_module_version": "1.5.0",
      "_view_name": "VBoxView",
      "box_style": "",
      "children": [
       "IPY_MODEL_002a24030a2247fdbdf94968819b9487",
       "IPY_MODEL_145e75427d5c41af9060d57278fcc2e6",
       "IPY_MODEL_365545b2b8ac459ebe2d76feb06f449b",
       "IPY_MODEL_fd44cf6aadc44ca8b0942796dea95481",
       "IPY_MODEL_c4bef72846334e58974c8441428a1758"
      ],
      "layout": "IPY_MODEL_d1853388f5344b399ca174f54e71f2d0"
     }
    },
    "c4bef72846334e58974c8441428a1758": {
     "model_module": "@jupyter-widgets/controls",
     "model_module_version": "1.5.0",
     "model_name": "HTMLModel",
     "state": {
      "_dom_classes": [],
      "_model_module": "@jupyter-widgets/controls",
      "_model_module_version": "1.5.0",
      "_model_name": "HTMLModel",
      "_view_count": null,
      "_view_module": "@jupyter-widgets/controls",
      "_view_module_version": "1.5.0",
      "_view_name": "HTMLView",
      "description": "",
      "description_tooltip": null,
      "layout": "IPY_MODEL_6dcd54aa84b54f388b4f98402929ebbb",
      "placeholder": "​",
      "style": "IPY_MODEL_7180179bd0214506a165042748239b19",
      "value": "\n<b>Thank You</b></center>"
     }
    },
    "c604659fccf042228c753d3b8f12af03": {
     "model_module": "@jupyter-widgets/base",
     "model_module_version": "1.2.0",
     "model_name": "LayoutModel",
     "state": {
      "_model_module": "@jupyter-widgets/base",
      "_model_module_version": "1.2.0",
      "_model_name": "LayoutModel",
      "_view_count": null,
      "_view_module": "@jupyter-widgets/base",
      "_view_module_version": "1.2.0",
      "_view_name": "LayoutView",
      "align_content": null,
      "align_items": null,
      "align_self": null,
      "border": null,
      "bottom": null,
      "display": null,
      "flex": null,
      "flex_flow": null,
      "grid_area": null,
      "grid_auto_columns": null,
      "grid_auto_flow": null,
      "grid_auto_rows": null,
      "grid_column": null,
      "grid_gap": null,
      "grid_row": null,
      "grid_template_areas": null,
      "grid_template_columns": null,
      "grid_template_rows": null,
      "height": null,
      "justify_content": null,
      "justify_items": null,
      "left": null,
      "margin": null,
      "max_height": null,
      "max_width": null,
      "min_height": null,
      "min_width": null,
      "object_fit": null,
      "object_position": null,
      "order": null,
      "overflow": null,
      "overflow_x": null,
      "overflow_y": null,
      "padding": null,
      "right": null,
      "top": null,
      "visibility": null,
      "width": null
     }
    },
    "d1853388f5344b399ca174f54e71f2d0": {
     "model_module": "@jupyter-widgets/base",
     "model_module_version": "1.2.0",
     "model_name": "LayoutModel",
     "state": {
      "_model_module": "@jupyter-widgets/base",
      "_model_module_version": "1.2.0",
      "_model_name": "LayoutModel",
      "_view_count": null,
      "_view_module": "@jupyter-widgets/base",
      "_view_module_version": "1.2.0",
      "_view_name": "LayoutView",
      "align_content": null,
      "align_items": "center",
      "align_self": null,
      "border": null,
      "bottom": null,
      "display": "flex",
      "flex": null,
      "flex_flow": "column",
      "grid_area": null,
      "grid_auto_columns": null,
      "grid_auto_flow": null,
      "grid_auto_rows": null,
      "grid_column": null,
      "grid_gap": null,
      "grid_row": null,
      "grid_template_areas": null,
      "grid_template_columns": null,
      "grid_template_rows": null,
      "height": null,
      "justify_content": null,
      "justify_items": null,
      "left": null,
      "margin": null,
      "max_height": null,
      "max_width": null,
      "min_height": null,
      "min_width": null,
      "object_fit": null,
      "object_position": null,
      "order": null,
      "overflow": null,
      "overflow_x": null,
      "overflow_y": null,
      "padding": null,
      "right": null,
      "top": null,
      "visibility": null,
      "width": "50%"
     }
    },
    "d5c563ababc6431cac8bff0a163dcf9c": {
     "model_module": "@jupyter-widgets/base",
     "model_module_version": "1.2.0",
     "model_name": "LayoutModel",
     "state": {
      "_model_module": "@jupyter-widgets/base",
      "_model_module_version": "1.2.0",
      "_model_name": "LayoutModel",
      "_view_count": null,
      "_view_module": "@jupyter-widgets/base",
      "_view_module_version": "1.2.0",
      "_view_name": "LayoutView",
      "align_content": null,
      "align_items": null,
      "align_self": null,
      "border": null,
      "bottom": null,
      "display": null,
      "flex": null,
      "flex_flow": null,
      "grid_area": null,
      "grid_auto_columns": null,
      "grid_auto_flow": null,
      "grid_auto_rows": null,
      "grid_column": null,
      "grid_gap": null,
      "grid_row": null,
      "grid_template_areas": null,
      "grid_template_columns": null,
      "grid_template_rows": null,
      "height": null,
      "justify_content": null,
      "justify_items": null,
      "left": null,
      "margin": null,
      "max_height": null,
      "max_width": null,
      "min_height": null,
      "min_width": null,
      "object_fit": null,
      "object_position": null,
      "order": null,
      "overflow": null,
      "overflow_x": null,
      "overflow_y": null,
      "padding": null,
      "right": null,
      "top": null,
      "visibility": null,
      "width": null
     }
    },
    "d9408e5ef4164e94b399d89eefd4fc4e": {
     "model_module": "@jupyter-widgets/base",
     "model_module_version": "1.2.0",
     "model_name": "LayoutModel",
     "state": {
      "_model_module": "@jupyter-widgets/base",
      "_model_module_version": "1.2.0",
      "_model_name": "LayoutModel",
      "_view_count": null,
      "_view_module": "@jupyter-widgets/base",
      "_view_module_version": "1.2.0",
      "_view_name": "LayoutView",
      "align_content": null,
      "align_items": null,
      "align_self": null,
      "border": null,
      "bottom": null,
      "display": null,
      "flex": null,
      "flex_flow": null,
      "grid_area": null,
      "grid_auto_columns": null,
      "grid_auto_flow": null,
      "grid_auto_rows": null,
      "grid_column": null,
      "grid_gap": null,
      "grid_row": null,
      "grid_template_areas": null,
      "grid_template_columns": null,
      "grid_template_rows": null,
      "height": null,
      "justify_content": null,
      "justify_items": null,
      "left": null,
      "margin": null,
      "max_height": null,
      "max_width": null,
      "min_height": null,
      "min_width": null,
      "object_fit": null,
      "object_position": null,
      "order": null,
      "overflow": null,
      "overflow_x": null,
      "overflow_y": null,
      "padding": null,
      "right": null,
      "top": null,
      "visibility": null,
      "width": null
     }
    },
    "fd44cf6aadc44ca8b0942796dea95481": {
     "model_module": "@jupyter-widgets/controls",
     "model_module_version": "1.5.0",
     "model_name": "ButtonModel",
     "state": {
      "_dom_classes": [],
      "_model_module": "@jupyter-widgets/controls",
      "_model_module_version": "1.5.0",
      "_model_name": "ButtonModel",
      "_view_count": null,
      "_view_module": "@jupyter-widgets/controls",
      "_view_module_version": "1.5.0",
      "_view_name": "ButtonView",
      "button_style": "",
      "description": "Login",
      "disabled": false,
      "icon": "",
      "layout": "IPY_MODEL_3b1f2fd3896740b0b839092c4608127d",
      "style": "IPY_MODEL_562d0a90b8cf47a9bced5832cc305479",
      "tooltip": ""
     }
    }
   }
  }
 },
 "nbformat": 4,
 "nbformat_minor": 5
}
